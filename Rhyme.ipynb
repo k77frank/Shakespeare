{
 "cells": [
  {
   "cell_type": "code",
   "execution_count": 1,
   "metadata": {
    "collapsed": true,
    "deletable": true,
    "editable": true
   },
   "outputs": [],
   "source": [
    "from HMM import unsupervised_HMM\n",
    "from HMM_helper import *"
   ]
  },
  {
   "cell_type": "code",
   "execution_count": 2,
   "metadata": {
    "collapsed": true,
    "deletable": true,
    "editable": true
   },
   "outputs": [],
   "source": [
    "data = []\n",
    "sonnet = []\n",
    "with open('data/shakespeare.txt') as fp:\n",
    "    line = fp.readline()\n",
    "    while line:\n",
    "        try:\n",
    "            val = int(line)\n",
    "            data.append(sonnet)\n",
    "            sonnet = []\n",
    "        except ValueError:\n",
    "            if (line != \"\\n\"):\n",
    "                sonnet.append(line.split())\n",
    "        line = fp.readline()\n",
    "data.append(sonnet)\n",
    "data = data[1:]"
   ]
  },
  {
   "cell_type": "code",
   "execution_count": 3,
   "metadata": {
    "collapsed": false,
    "deletable": true,
    "editable": true
   },
   "outputs": [],
   "source": [
    "final = []\n",
    "for x in data:\n",
    "    for y in x:\n",
    "        for z in y: \n",
    "            final.append(z)\n",
    "text = ''\n",
    "for x in final:\n",
    "    text += x + ' '\n",
    "obs, obs_map = parse_observations(text)\n",
    "for i in range(len(data)):\n",
    "    for j in range(len(data[i])):\n",
    "        for k in range(len(data[i][j])):\n",
    "            if (data[i][j][k][-1] in [',', '.', '?', '!', ':', ';', \"'\"]):\n",
    "                data[i][j][k] = data[i][j][k][:-1]"
   ]
  },
  {
   "cell_type": "code",
   "execution_count": 4,
   "metadata": {
    "collapsed": true,
    "deletable": true,
    "editable": true
   },
   "outputs": [],
   "source": [
    "fp = open('data/Syllable_dictionary.txt')\n",
    "\n",
    "words = [line.split() for line in fp]\n",
    "for i in range(len(words)):\n",
    "    words[i][0] = re.sub(r'[^\\w]', '', words[i][0]).lower()\n",
    "syls = {}\n",
    "for word in words:\n",
    "    try:\n",
    "        val = int(word[1])\n",
    "        syls[obs_map[word[0]]] = int(word[1])\n",
    "    except ValueError:\n",
    "        syls[obs_map[word[0]]] = int(word[2])"
   ]
  },
  {
   "cell_type": "code",
   "execution_count": 5,
   "metadata": {
    "collapsed": false,
    "deletable": true,
    "editable": true
   },
   "outputs": [
    {
     "name": "stdout",
     "output_type": "stream",
     "text": [
      "['fleetst']\n"
     ]
    }
   ],
   "source": [
    "for i in range(len(data)):\n",
    "    for j in range(len(data[i])):\n",
    "        for k in range(len(data[i][j])):\n",
    "            data[i][j][k] = re.sub(r'[^\\w]', '', data[i][j][k]).lower()\n",
    "rhyme_dic = dict()\n",
    "for sonnet in data:\n",
    "    if (len(sonnet) == 14):\n",
    "        for line in sonnet:\n",
    "            last = line[-1]\n",
    "            if (last not in rhyme_dic.keys()):\n",
    "                    rhyme_dic[last] = []\n",
    "        \n",
    "for sonnet in data:  \n",
    "    if (len(sonnet) == 14):\n",
    "        rhyme_dic[sonnet[0][-1]].append(sonnet[2][-1])\n",
    "        rhyme_dic[sonnet[2][-1]].append(sonnet[0][-1])\n",
    "        rhyme_dic[sonnet[1][-1]].append(sonnet[3][-1])\n",
    "        rhyme_dic[sonnet[3][-1]].append(sonnet[1][-1])\n",
    "        rhyme_dic[sonnet[4][-1]].append(sonnet[6][-1])\n",
    "        rhyme_dic[sonnet[6][-1]].append(sonnet[4][-1])\n",
    "        rhyme_dic[sonnet[5][-1]].append(sonnet[7][-1])\n",
    "        rhyme_dic[sonnet[7][-1]].append(sonnet[5][-1])\n",
    "        rhyme_dic[sonnet[8][-1]].append(sonnet[10][-1])\n",
    "        rhyme_dic[sonnet[10][-1]].append(sonnet[8][-1])\n",
    "        rhyme_dic[sonnet[9][-1]].append(sonnet[11][-1])\n",
    "        rhyme_dic[sonnet[11][-1]].append(sonnet[9][-1])\n",
    "        rhyme_dic[sonnet[12][-1]].append(sonnet[13][-1])\n",
    "        rhyme_dic[sonnet[13][-1]].append(sonnet[12][-1])\n",
    "\n",
    "for key in rhyme_dic.keys():\n",
    "    rhyme_dic[key] = list(set(rhyme_dic[key]))\n",
    "print(rhyme_dic[\"sweets\"])"
   ]
  },
  {
   "cell_type": "code",
   "execution_count": 6,
   "metadata": {
    "collapsed": false,
    "deletable": true,
    "editable": true
   },
   "outputs": [],
   "source": [
    "hmm = unsupervised_HMM(obs, 10, 5)\n"
   ]
  },
  {
   "cell_type": "code",
   "execution_count": 7,
   "metadata": {
    "collapsed": false,
    "deletable": true,
    "editable": true
   },
   "outputs": [],
   "source": [
    "def make_sonnet():\n",
    "    my_sonnet = ''\n",
    "    for i in range(3):\n",
    "        my_sonnet += sample_rhyme_line(hmm, obs_map, syls, rhyme_dic, 10) + '\\n'\n",
    "        last1 = my_sonnet.split()[-1]\n",
    "        my_sonnet += sample_rhyme_line(hmm, obs_map, syls, rhyme_dic, 10) + '\\n'\n",
    "        last2 = my_sonnet.split()[-1]\n",
    "        my_sonnet += sample_rhyme_line(hmm, obs_map, syls, rhyme_dic, 10, last1) + '\\n'\n",
    "        my_sonnet += sample_rhyme_line(hmm, obs_map, syls, rhyme_dic, 10, last2) + '\\n'\n",
    "    my_sonnet += sample_rhyme_line(hmm, obs_map, syls, rhyme_dic, 10) + '\\n'\n",
    "    last = my_sonnet.split()[-1]\n",
    "    my_sonnet += sample_rhyme_line(hmm, obs_map, syls, rhyme_dic, 10, last) + '\\n'\n",
    "    return my_sonnet"
   ]
  },
  {
   "cell_type": "code",
   "execution_count": 22,
   "metadata": {
    "collapsed": false,
    "deletable": true,
    "editable": true
   },
   "outputs": [
    {
     "name": "stdout",
     "output_type": "stream",
     "text": [
      "Sweet and thy dost foot my doth words time tribes\n",
      "Best so forbear is condemned are days\n",
      "Enlarged thine forgot exchequer subscribes\n",
      "Posterity heart when beauty decays\n",
      "Sake see store my have that will some repair\n",
      "I tendered long love to self shall confined\n",
      "Wind no false shore me of they love for fair\n",
      "Thy jewel this can of knows have is kind\n",
      "The canker lend belongs in no sweetness\n",
      "How shall sufficed drops not disabled\n",
      "Scythe lend leaves this might it see all meetness\n",
      "Me flower breed bending methinks strumpeted\n",
      "Wind self was what in did gives you thy hems\n",
      "The feed the this closet let reason gems\n",
      "\n"
     ]
    }
   ],
   "source": [
    "print(make_sonnet())"
   ]
  },
  {
   "cell_type": "code",
   "execution_count": 9,
   "metadata": {
    "collapsed": true,
    "deletable": true,
    "editable": true
   },
   "outputs": [],
   "source": [
    "def make_haiku():\n",
    "    my_haiku = ''\n",
    "    my_haiku += sample_sonnet_line(hmm, obs_map, syls, 5) + '\\n'\n",
    "    my_haiku += sample_sonnet_line(hmm, obs_map, syls, 7) + '\\n'\n",
    "    my_haiku += sample_sonnet_line(hmm, obs_map, syls, 5) + '\\n'\n",
    "    print(my_haiku)\n",
    "    return my_haiku"
   ]
  },
  {
   "cell_type": "code",
   "execution_count": 23,
   "metadata": {
    "collapsed": false,
    "deletable": true,
    "editable": true
   },
   "outputs": [
    {
     "name": "stdout",
     "output_type": "stream",
     "text": [
      "Spring own lies do thee\n",
      "Despite sweet that blot by and\n",
      "But summers more me\n",
      "\n"
     ]
    },
    {
     "data": {
      "text/plain": [
       "'Spring own lies do thee\\nDespite sweet that blot by and\\nBut summers more me\\n'"
      ]
     },
     "execution_count": 23,
     "metadata": {},
     "output_type": "execute_result"
    }
   ],
   "source": [
    "make_haiku()"
   ]
  },
  {
   "cell_type": "code",
   "execution_count": 11,
   "metadata": {
    "collapsed": true,
    "deletable": true,
    "editable": true
   },
   "outputs": [],
   "source": [
    "def make_lim():\n",
    "    my_lim = ''\n",
    "    my_lim += sample_rhyme_line(hmm, obs_map, syls, rhyme_dic, 8) + '\\n'\n",
    "    last1 = my_lim.split()[-1]\n",
    "    my_lim += sample_rhyme_line(hmm, obs_map, syls, rhyme_dic, 8, last1) + '\\n'\n",
    "    my_lim += sample_rhyme_line(hmm, obs_map, syls, rhyme_dic, 5) + '\\n'\n",
    "    last2 = my_lim.split()[-1]\n",
    "    my_lim += sample_rhyme_line(hmm, obs_map, syls, rhyme_dic, 5, last2) + '\\n'\n",
    "    my_lim += sample_rhyme_line(hmm, obs_map, syls, rhyme_dic, 8, last1) + '\\n'\n",
    "    print(my_lim)"
   ]
  },
  {
   "cell_type": "code",
   "execution_count": 12,
   "metadata": {
    "collapsed": false,
    "deletable": true,
    "editable": true
   },
   "outputs": [
    {
     "name": "stdout",
     "output_type": "stream",
     "text": [
      "Each all as called be calls reason\n",
      "My flies that live the may treason\n",
      "Lose so uneared pluck\n",
      "Would spheres all age luck\n",
      "Laid back a love both a treason\n",
      "\n"
     ]
    }
   ],
   "source": [
    "make_lim()"
   ]
  },
  {
   "cell_type": "code",
   "execution_count": 13,
   "metadata": {
    "collapsed": true,
    "deletable": true,
    "editable": true
   },
   "outputs": [],
   "source": [
    "def make_pet():\n",
    "    my_pet = ''\n",
    "    my_pet += sample_rhyme_line(hmm, obs_map, syls, rhyme_dic, 10) + '\\n'\n",
    "    last1 = my_pet.split()[-1]\n",
    "    my_pet += sample_rhyme_line(hmm, obs_map, syls, rhyme_dic, 10) + '\\n'\n",
    "    last2 = my_pet.split()[-1]\n",
    "    my_pet += sample_rhyme_line(hmm, obs_map, syls, rhyme_dic, 10, last2) + '\\n'\n",
    "    my_pet += sample_rhyme_line(hmm, obs_map, syls, rhyme_dic, 10, last1) + '\\n'\n",
    "    my_pet += sample_rhyme_line(hmm, obs_map, syls, rhyme_dic, 10, last1) + '\\n'\n",
    "    my_pet += sample_rhyme_line(hmm, obs_map, syls, rhyme_dic, 10, last2) + '\\n'\n",
    "    my_pet += sample_rhyme_line(hmm, obs_map, syls, rhyme_dic, 10, last2) + '\\n'\n",
    "    my_pet += sample_rhyme_line(hmm, obs_map, syls, rhyme_dic, 10, last1) + '\\n'\n",
    "    my_pet += '\\n'\n",
    "    my_pet += sample_rhyme_line(hmm, obs_map, syls, rhyme_dic, 10) + '\\n'\n",
    "    last3 = my_pet.split()[-1]\n",
    "    my_pet += sample_rhyme_line(hmm, obs_map, syls, rhyme_dic, 10) + '\\n'\n",
    "    last4 = my_pet.split()[-1]\n",
    "    my_pet += sample_rhyme_line(hmm, obs_map, syls, rhyme_dic, 10, last4) + '\\n'\n",
    "    my_pet += sample_rhyme_line(hmm, obs_map, syls, rhyme_dic, 10) + '\\n'\n",
    "    last5 = my_pet.split()[-1]\n",
    "    my_pet += sample_rhyme_line(hmm, obs_map, syls, rhyme_dic, 10, last3) + '\\n'\n",
    "    my_pet += sample_rhyme_line(hmm, obs_map, syls, rhyme_dic, 10, last5) + '\\n'\n",
    "    print(my_pet)"
   ]
  },
  {
   "cell_type": "code",
   "execution_count": 14,
   "metadata": {
    "collapsed": false,
    "deletable": true,
    "editable": true
   },
   "outputs": [
    {
     "name": "stdout",
     "output_type": "stream",
     "text": [
      "I selfs thy since greet endured true you there\n",
      "Is with music detain and are sweet care\n",
      "Than my shall gently and cannot my rare\n",
      "Her my look the steepup when proud in where\n",
      "That the therefore love than which now forbear\n",
      "Open beauty knowledge is if of are\n",
      "The and their no you do bold thus thou rare\n",
      "The why him the were my and everywhere\n",
      "\n",
      "The confess by that did it the any\n",
      "Purest paid where stamp be cherish make tomb\n",
      "Fools you of no after how doing come\n",
      "Hate it from victors weigh pity best life\n",
      "For may so being unlooked thou a a many\n",
      "Pricked vanished you misuse thou by be wife\n",
      "\n"
     ]
    }
   ],
   "source": [
    "make_pet()"
   ]
  },
  {
   "cell_type": "code",
   "execution_count": null,
   "metadata": {
    "collapsed": true,
    "deletable": true,
    "editable": true
   },
   "outputs": [],
   "source": []
  }
 ],
 "metadata": {
  "kernelspec": {
   "display_name": "tensorflow_env.",
   "language": "python",
   "name": "tensorflow_env."
  },
  "language_info": {
   "codemirror_mode": {
    "name": "ipython",
    "version": 3
   },
   "file_extension": ".py",
   "mimetype": "text/x-python",
   "name": "python",
   "nbconvert_exporter": "python",
   "pygments_lexer": "ipython3",
   "version": "3.6.5"
  }
 },
 "nbformat": 4,
 "nbformat_minor": 2
}
