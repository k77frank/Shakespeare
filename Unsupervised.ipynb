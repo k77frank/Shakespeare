{
 "cells": [
  {
   "cell_type": "code",
   "execution_count": 1,
   "metadata": {
    "collapsed": false,
    "deletable": true,
    "editable": true
   },
   "outputs": [],
   "source": [
    "from HMM import unsupervised_HMM\n",
    "from HMM_helper import *"
   ]
  },
  {
   "cell_type": "code",
   "execution_count": 2,
   "metadata": {
    "collapsed": false,
    "deletable": true,
    "editable": true
   },
   "outputs": [
    {
     "name": "stdout",
     "output_type": "stream",
     "text": [
      "[['From', 'fairest', 'creatures', 'we', 'desire', 'increase,'], ['That', 'thereby', \"beauty's\", 'rose', 'might', 'never', 'die,'], ['But', 'as', 'the', 'riper', 'should', 'by', 'time', 'decease,'], ['His', 'tender', 'heir', 'might', 'bear', 'his', 'memory:'], ['But', 'thou', 'contracted', 'to', 'thine', 'own', 'bright', 'eyes,'], [\"Feed'st\", 'thy', \"light's\", 'flame', 'with', 'self-substantial', 'fuel,'], ['Making', 'a', 'famine', 'where', 'abundance', 'lies,'], ['Thy', 'self', 'thy', 'foe,', 'to', 'thy', 'sweet', 'self', 'too', 'cruel:'], ['Thou', 'that', 'art', 'now', 'the', \"world's\", 'fresh', 'ornament,'], ['And', 'only', 'herald', 'to', 'the', 'gaudy', 'spring,'], ['Within', 'thine', 'own', 'bud', 'buriest', 'thy', 'content,'], ['And', 'tender', 'churl', \"mak'st\", 'waste', 'in', 'niggarding:'], ['Pity', 'the', 'world,', 'or', 'else', 'this', 'glutton', 'be,'], ['To', 'eat', 'the', \"world's\", 'due,', 'by', 'the', 'grave', 'and', 'thee.']]\n"
     ]
    }
   ],
   "source": [
    "data = []\n",
    "sonnet = []\n",
    "with open('data/shakespeare.txt') as fp:\n",
    "    line = fp.readline()\n",
    "    while line:\n",
    "        try:\n",
    "            val = int(line)\n",
    "            data.append(sonnet)\n",
    "            sonnet = []\n",
    "        except ValueError:\n",
    "            if (line != \"\\n\"):\n",
    "                sonnet.append(line.split())\n",
    "        line = fp.readline()\n",
    "data.append(sonnet)\n",
    "data = data[1:]\n",
    "print(data[0])"
   ]
  },
  {
   "cell_type": "code",
   "execution_count": 3,
   "metadata": {
    "collapsed": false,
    "deletable": true,
    "editable": true
   },
   "outputs": [],
   "source": [
    "final = []\n",
    "for x in data:\n",
    "    for y in x:\n",
    "        for z in y: \n",
    "            final.append(z)\n",
    "text = ''\n",
    "for x in final:\n",
    "    text += x + ' '\n",
    "obs, obs_map = parse_observations(text)"
   ]
  },
  {
   "cell_type": "code",
   "execution_count": 4,
   "metadata": {
    "collapsed": false,
    "deletable": true,
    "editable": true
   },
   "outputs": [
    {
     "name": "stdout",
     "output_type": "stream",
     "text": [
      "2:\n",
      "Iteration: 10\n",
      "Canker did thou day in so brightness of...\n",
      "Every is when evil lovely offices ill fortify...\n",
      "Speaking hied love from with thou i power...\n",
      "Print is age inward for which brings i...\n",
      "Bright tongue thee i and then these time...\n",
      "It thy make sin his maiden all stretched...\n",
      "Breed with are society becoming whilst kind love...\n",
      "When this ear him of all true bear...\n",
      "Truth with judgment and fears it is far...\n",
      "Seem mine this ere though wanting looks me...\n",
      "Black whose i to music bear child wherein...\n",
      "Do store once babe your in the a...\n",
      "Least second my thine razed love of life...\n",
      "Sinful loving all before hers fair doubt and...\n",
      "\n",
      "6:\n",
      "Iteration: 10\n",
      "Unkind my might in increase lie before nor...\n",
      "Things hue thy seem fire swerving to dressing...\n",
      "The the or even long time and morn...\n",
      "Of dear and single making love trenches hide...\n",
      "To shall you but have antique the pardon...\n",
      "Show doth every dost moving music prophecies can...\n",
      "Know to my praise is of decay of...\n",
      "Praises summers self gainst is of than enfeebled...\n",
      "And off i in one that good desire...\n",
      "New scope thou yet but friend anon judgement...\n",
      "Prove why this thence their then she this...\n",
      "Have thou let then crime in be thoughts...\n",
      "From be sick a back large is by...\n",
      "Tripping the evil hear me world shall music...\n",
      "\n",
      "10:\n",
      "Iteration: 10\n",
      "Anger looks if on look to in esteem...\n",
      "Thy in for majesty may lose false no...\n",
      "Sweet blunt that wishing woe hours cause your...\n",
      "In mine true part as that love should...\n",
      "To gavst the swift his when my oblation...\n",
      "That me blunt knows this star you world...\n",
      "My it be sweet yet do tears love...\n",
      "Be but own worth or though to doth...\n",
      "That none man for relief more haply day...\n",
      "Loving bind fair glad thy and and my...\n",
      "Be habit appear as as painted tie his...\n",
      "Must so scope that will vassal for doth...\n",
      "To write i of you i on to...\n",
      "Times hell am dear true that with eyes...\n",
      "\n",
      "14:\n",
      "Iteration: 10\n",
      "Eithers on me groan dear loss since straight...\n",
      "Hast bears are thee wear assure one every...\n",
      "Song o those will when thou winters that...\n",
      "Kill brief see have her which idle glory...\n",
      "Music of prove his excuse be my air...\n",
      "Came but doth therefore bud why up or...\n",
      "Action done see it make can name too...\n",
      "Bath more she permit feast be so to...\n",
      "No wealth their roses he quite good thine...\n",
      "Save said being fair since tyrants robs a...\n",
      "I example taste eye gentle or show errors...\n",
      "Revenge of the thou hiding when have my...\n",
      "Remain seeting for of restful receive own unswept...\n",
      "Adders tongue defeat eyes clerk it my nurseth...\n",
      "\n",
      "18:\n",
      "Iteration: 10\n",
      "Wide that as out not confounds which can...\n",
      "Rearward wooed these pent thee tend this of...\n",
      "Then blanks and and their vision dost in...\n",
      "Beauty and tis my lies the my true...\n",
      "Mine what thoughts brings inheritors blame near give...\n",
      "Did doth bear you never growing there him...\n",
      "Make hence and the live and age loves...\n",
      "Praise home open though more with with ills...\n",
      "Rocks can and i whilst forth and no...\n",
      "Then no hours sweet that my want to...\n",
      "Doth that i not which fault and decrease...\n",
      "Sweet to case height they praise not since...\n",
      "Outbraves such debtor to that shun seem you...\n",
      "Be this then brave to which state and...\n",
      "\n"
     ]
    }
   ],
   "source": [
    "for i in range(2, 20, 4):\n",
    "    print(str(i) + ':' )\n",
    "    hmm = unsupervised_HMM(obs, i, 10)\n",
    "    test = ''\n",
    "    for i in range(14):\n",
    "        test += sample_sentence(hmm, obs_map, n_words=8) + '\\n'\n",
    "    print(test)"
   ]
  },
  {
   "cell_type": "code",
   "execution_count": 7,
   "metadata": {
    "collapsed": false,
    "deletable": true,
    "editable": true
   },
   "outputs": [
    {
     "name": "stdout",
     "output_type": "stream",
     "text": [
      "Side alters is my thief sense shall it...\n",
      "Thou amiss most painting compeers of the the...\n",
      "What who pity confined antique prayers length mine...\n",
      "Part did unrespected make i in grace and...\n",
      "Hearts to one verse cheek of still plague...\n",
      "Excusing taken praise night me moan beauty thee...\n",
      "Ten which am make alas saying increase plea...\n",
      "Others yet lusty saw have eye by mansion...\n",
      "Strongly looking with if vows the farewell by...\n",
      "For mothers verse womens which saint every it...\n",
      "Are i their lovely all my it my...\n",
      "Hand stewards be delight may inward whats times...\n",
      "Of not loves nor in cheeks which sweet...\n",
      "The newappearing is birth who till the is...\n",
      "\n"
     ]
    }
   ],
   "source": [
    "test = ''\n",
    "for i in range(14):\n",
    "    test += sample_sentence(hmm, obs_map, n_words=8) + '\\n'\n",
    "print(test)"
   ]
  },
  {
   "cell_type": "code",
   "execution_count": null,
   "metadata": {
    "collapsed": false,
    "deletable": true,
    "editable": true
   },
   "outputs": [],
   "source": []
  },
  {
   "cell_type": "code",
   "execution_count": null,
   "metadata": {
    "collapsed": true,
    "deletable": true,
    "editable": true
   },
   "outputs": [],
   "source": []
  }
 ],
 "metadata": {
  "anaconda-cloud": {},
  "kernelspec": {
   "display_name": "tensorflow_env.",
   "language": "python",
   "name": "tensorflow_env."
  },
  "language_info": {
   "codemirror_mode": {
    "name": "ipython",
    "version": 3
   },
   "file_extension": ".py",
   "mimetype": "text/x-python",
   "name": "python",
   "nbconvert_exporter": "python",
   "pygments_lexer": "ipython3",
   "version": "3.6.5"
  }
 },
 "nbformat": 4,
 "nbformat_minor": 2
}
