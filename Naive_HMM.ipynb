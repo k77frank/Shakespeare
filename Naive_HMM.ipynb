{
 "cells": [
  {
   "cell_type": "code",
   "execution_count": 1,
   "metadata": {
    "collapsed": false,
    "deletable": true,
    "editable": true
   },
   "outputs": [],
   "source": [
    "from HMM import unsupervised_HMM\n",
    "from HMM_helper import *"
   ]
  },
  {
   "cell_type": "code",
   "execution_count": 2,
   "metadata": {
    "collapsed": false,
    "deletable": true,
    "editable": true
   },
   "outputs": [],
   "source": [
    "data = []\n",
    "sonnet = []\n",
    "with open('data/shakespeare.txt') as fp:\n",
    "    line = fp.readline()\n",
    "    while line:\n",
    "        try:\n",
    "            val = int(line)\n",
    "            data.append(sonnet)\n",
    "            sonnet = []\n",
    "        except ValueError:\n",
    "            if (line != \"\\n\"):\n",
    "                sonnet.append(line.split())\n",
    "        line = fp.readline()\n",
    "data.append(sonnet)\n",
    "data = data[1:]"
   ]
  },
  {
   "cell_type": "code",
   "execution_count": 3,
   "metadata": {
    "collapsed": true,
    "deletable": true,
    "editable": true
   },
   "outputs": [],
   "source": [
    "final = []\n",
    "for x in data:\n",
    "    for y in x:\n",
    "        for z in y: \n",
    "            final.append(z)\n",
    "text = ''\n",
    "for x in final:\n",
    "    text += x + ' '\n",
    "obs, obs_map = parse_observations(text)"
   ]
  },
  {
   "cell_type": "code",
   "execution_count": 4,
   "metadata": {
    "collapsed": false,
    "deletable": true,
    "editable": true
   },
   "outputs": [],
   "source": [
    "fp = open('data/Syllable_dictionary.txt')\n",
    "\n",
    "words = [line.split() for line in fp]\n",
    "for i in range(len(words)):\n",
    "    words[i][0] = re.sub(r'[^\\w]', '', words[i][0]).lower()\n",
    "syls = {}\n",
    "for word in words:\n",
    "    try:\n",
    "        val = int(word[1])\n",
    "        syls[obs_map[word[0]]] = int(word[1])\n",
    "    except ValueError:\n",
    "        syls[obs_map[word[0]]] = int(word[2])"
   ]
  },
  {
   "cell_type": "code",
   "execution_count": 7,
   "metadata": {
    "collapsed": false,
    "deletable": true,
    "editable": true
   },
   "outputs": [
    {
     "name": "stdout",
     "output_type": "stream",
     "text": [
      "2\n",
      "Sun face diest be sue whose of and what eye\n",
      "Of husband her then one fair of of to\n",
      "I words sweet sea moan than for though vial\n",
      "Muse with unthrift memory suretylike\n",
      "How shalt am golden sweet him be may on\n",
      "With deeds my his i is me before i\n",
      "Thorns self thy more back pen of come inward\n",
      "All can travels then or making error\n",
      "More o to the pitiful thine of all\n",
      "For day his is thou lest fear which strong not\n",
      "Would hung sing the his merits disease fresh\n",
      "Hath mine unset of doth so no you thee\n",
      "Shall as argument buried woe save she\n",
      "Too life worthiness feeding when like my\n",
      "\n",
      "6\n",
      "When the one use shall tops heats took to bear\n",
      "In make doing mayst victors thee deep on\n",
      "The to style self self now what hope foul it\n",
      "And faster self love should born golden the\n",
      "Leese if whereto more that your when or do\n",
      "More thy to me and me strengths longer breathes\n",
      "Leaves yet presence thy thy mine forth thus lest\n",
      "Slept as of so the tomb pride take and thou\n",
      "Bad this sensual doth of and but matter\n",
      "Whilst for bareness and a to in bring or\n",
      "Monarchs whereto your my thee eyes sums knows\n",
      "Loving my have my on besmeared watch black\n",
      "Matter no herald rest as selfloving\n",
      "This dost stands place knows do if as from eye\n",
      "\n",
      "10\n",
      "At thy not i heat i words spirit on in\n",
      "Yet self whilst shamed seem in sake kills despise\n",
      "Leaves that than i said both possessed from be\n",
      "I which upon to what pity cannot\n",
      "Skill the the and canst high as no fair do\n",
      "The black with the mutual bends decrease with\n",
      "Dost shalt coloured my thy unlettered no\n",
      "Sold mistress base bear beard thou made new as\n",
      "Heart daily the change except crushed me thee\n",
      "Appeal thy best might thy my ills love thy\n",
      "True thee is to might can far on skill time\n",
      "And can shown their legions cease clay woe and\n",
      "Virtue doth humour every my doth eyes\n",
      "Black love with rich prison too thrive like i\n",
      "\n",
      "14\n",
      "By bright mothers kindness contend than but\n",
      "Bear pity self loving say dream that these\n",
      "Wit being beauty eye worse calls thy thou be\n",
      "Water lo idle steel comfort all would\n",
      "Be my foolish confined tomorrow verse\n",
      "Youth not eye filled dost not who in if high\n",
      "All deaths on poet and a and proclaims\n",
      "Am a but another my my but is\n",
      "My find night so credit marble if love\n",
      "Th birth is my didst hymn i wife admired\n",
      "Whom which should have for her thought sorrow their\n",
      "Or spirit heart let from my in he all and\n",
      "Judgement and the in i so hated ill\n",
      "As my and possession hath banks beauty\n",
      "\n",
      "18\n",
      "Night to wires seek tongue good this then how and\n",
      "Is are to wrackful have the durst stamp make\n",
      "For measure foul been when delight the which\n",
      "For in bewailed unwooed her cheek thee\n",
      "Wars that your power among thinking of to\n",
      "Inward as form had winter to while as\n",
      "Hast west thou i beauty my as married\n",
      "Character advance not day far receive\n",
      "No make is i in his true doth weary\n",
      "Be then eyes him worth from then transport main\n",
      "To book for my of delight them by in\n",
      "Have night pride to thought know earth love you the\n",
      "Due pain seen that ten joy play the and with\n",
      "Is when me or thou loves carve lack anew\n",
      "\n"
     ]
    }
   ],
   "source": [
    "for h in range(2, 20, 4):\n",
    "    print(h)\n",
    "    hmm = unsupervised_HMM(obs, h, 5)\n",
    "    naive = ''\n",
    "    for i in range(14):\n",
    "        naive += sample_sonnet_line(hmm, obs_map, syls, 10) + '\\n'\n",
    "    print(naive)"
   ]
  },
  {
   "cell_type": "code",
   "execution_count": null,
   "metadata": {
    "collapsed": false,
    "deletable": true,
    "editable": true
   },
   "outputs": [],
   "source": []
  },
  {
   "cell_type": "code",
   "execution_count": null,
   "metadata": {
    "collapsed": true,
    "deletable": true,
    "editable": true
   },
   "outputs": [],
   "source": []
  }
 ],
 "metadata": {
  "kernelspec": {
   "display_name": "tensorflow_env.",
   "language": "python",
   "name": "tensorflow_env."
  },
  "language_info": {
   "codemirror_mode": {
    "name": "ipython",
    "version": 3
   },
   "file_extension": ".py",
   "mimetype": "text/x-python",
   "name": "python",
   "nbconvert_exporter": "python",
   "pygments_lexer": "ipython3",
   "version": "3.6.5"
  }
 },
 "nbformat": 4,
 "nbformat_minor": 2
}
